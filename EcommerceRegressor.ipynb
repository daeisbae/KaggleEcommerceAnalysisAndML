{
 "cells": [
  {
   "cell_type": "code",
   "execution_count": 17,
   "source": [
    "from sklearn.linear_model import LinearRegression\r\n",
    "from sklearn.preprocessing import StandardScaler\r\n",
    "from sklearn.pipeline import Pipeline\r\n",
    "from sklearn.metrics import r2_score\r\n",
    "from EcommerceDataset import EcommerceDataset"
   ],
   "outputs": [],
   "metadata": {}
  },
  {
   "cell_type": "markdown",
   "source": [
    "Get Training and Testing Data"
   ],
   "metadata": {}
  },
  {
   "cell_type": "code",
   "execution_count": 18,
   "source": [
    "TrainFile = EcommerceDataset(\"EcommerceCustomers.csv\")\r\n",
    "TestFile = EcommerceDataset(\"EcommerceCustomersTest.csv\")"
   ],
   "outputs": [],
   "metadata": {}
  },
  {
   "cell_type": "markdown",
   "source": [
    "Make Pipeline consisting of Scaler and Linear regression"
   ],
   "metadata": {}
  },
  {
   "cell_type": "code",
   "execution_count": 19,
   "source": [
    "model = Pipeline([('sc', StandardScaler()),('lr', LinearRegression())])"
   ],
   "outputs": [],
   "metadata": {}
  },
  {
   "cell_type": "markdown",
   "source": [
    "Train Model"
   ],
   "metadata": {}
  },
  {
   "cell_type": "code",
   "execution_count": 20,
   "source": [
    "model.fit(TrainFile.returnFile()[0], TrainFile.returnFile()[1])"
   ],
   "outputs": [
    {
     "output_type": "execute_result",
     "data": {
      "text/plain": [
       "Pipeline(steps=[('sc', StandardScaler()), ('lr', LinearRegression())])"
      ]
     },
     "metadata": {},
     "execution_count": 20
    }
   ],
   "metadata": {}
  },
  {
   "cell_type": "markdown",
   "source": [
    "Get Model Coefficient\r\n",
    "1.Avg. Session Length\r\n",
    "2.Time on App\r\n",
    "3.Time on Website\r\n",
    "4.Length of Membership\r\n",
    "\r\n",
    "vs AnnualAmountSpent"
   ],
   "metadata": {}
  },
  {
   "cell_type": "code",
   "execution_count": 21,
   "source": [
    "model['lr'].coef_"
   ],
   "outputs": [
    {
     "output_type": "execute_result",
     "data": {
      "text/plain": [
       "array([25.011755  , 38.08471   ,  0.20827484, 61.660667  ], dtype=float32)"
      ]
     },
     "metadata": {},
     "execution_count": 21
    }
   ],
   "metadata": {}
  },
  {
   "cell_type": "markdown",
   "source": [
    "Get Model Accuracy using testing data"
   ],
   "metadata": {}
  },
  {
   "cell_type": "code",
   "execution_count": 25,
   "source": [
    "pred = model.predict(TestFile.returnFile()[0])\r\n",
    "f\"Model Accuracy: {r2_score(pred, TestFile.returnFile()[1]) * 100:.2f}%\""
   ],
   "outputs": [
    {
     "output_type": "execute_result",
     "data": {
      "text/plain": [
       "'Model Accuracy: 98.06%'"
      ]
     },
     "metadata": {},
     "execution_count": 25
    }
   ],
   "metadata": {}
  }
 ],
 "metadata": {
  "orig_nbformat": 4,
  "language_info": {
   "name": "python",
   "version": "3.9.6",
   "mimetype": "text/x-python",
   "codemirror_mode": {
    "name": "ipython",
    "version": 3
   },
   "pygments_lexer": "ipython3",
   "nbconvert_exporter": "python",
   "file_extension": ".py"
  },
  "kernelspec": {
   "name": "python3",
   "display_name": "Python 3.9.6 64-bit"
  },
  "interpreter": {
   "hash": "cc9e58485c66127f781685c073442b08643c5b6822b9701b79a89409626f1f30"
  }
 },
 "nbformat": 4,
 "nbformat_minor": 2
}